{
  "nbformat": 4,
  "nbformat_minor": 0,
  "metadata": {
    "colab": {
      "name": "jokenpo_python.ipynb",
      "provenance": [],
      "toc_visible": true,
      "authorship_tag": "ABX9TyOM0lDX2bby6rT3lnlWuAB5",
      "include_colab_link": true
    },
    "kernelspec": {
      "name": "python3",
      "display_name": "Python 3"
    },
    "language_info": {
      "name": "python"
    }
  },
  "cells": [
    {
      "cell_type": "markdown",
      "metadata": {
        "id": "view-in-github",
        "colab_type": "text"
      },
      "source": [
        "<a href=\"https://colab.research.google.com/github/themachineheadbr/Jupyter-notebooks/blob/main/jokenpo_python.ipynb\" target=\"_parent\"><img src=\"https://colab.research.google.com/assets/colab-badge.svg\" alt=\"Open In Colab\"/></a>"
      ]
    },
    {
      "cell_type": "markdown",
      "source": [
        "#Jokenpo Game"
      ],
      "metadata": {
        "id": "khiZf5jU1flV"
      }
    },
    {
      "cell_type": "code",
      "execution_count": 3,
      "metadata": {
        "colab": {
          "base_uri": "https://localhost:8080/"
        },
        "id": "9ZDZdIyw1crP",
        "outputId": "1198495d-73ae-48aa-ab9c-0edf0e183ddc"
      },
      "outputs": [
        {
          "output_type": "stream",
          "name": "stdout",
          "text": [
            "Escolha 'pedra', 'papel' ou 'tesoura': pedra\n",
            "Computador escolheu papel\n",
            "Você não venceu\n"
          ]
        }
      ],
      "source": [
        "import random\n",
        "\n",
        "choice = input(\"Escolha 'pedra', 'papel' ou 'tesoura': \")\n",
        "\n",
        "choices_list = [\"pedra\", \"papel\", \"tesoura\"]\n",
        "\n",
        "automatic_choice = random.choice(choices_list)\n",
        "\n",
        "win = \"\"\n",
        "\n",
        "if choice == \"pedra\" and automatic_choice == \"tesoura\":\n",
        "  print(\"Computador escolheu \"+ automatic_choice)\n",
        "  win = \"Você venceu\"\n",
        "elif choice == \"pedra\" and automatic_choice == \"papel\":\n",
        "  print(\"Computador escolheu \"+ automatic_choice)\n",
        "  win = \"Você não venceu\"\n",
        "elif choice == \"pedra\" and automatic_choice == \"pedra\":\n",
        "  print(\"Computador escolheu \"+ automatic_choice)\n",
        "  win = \"Você empatou\"\n",
        "elif choice == \"papel\" and automatic_choice == \"pedra\":\n",
        "  print(\"Computador escolheu \"+ automatic_choice)\n",
        "  win = \"Você venceu\"\n",
        "elif choice == \"papel\" and automatic_choice == \"tesoura\":\n",
        "  print(\"Computador escolheu \"+ automatic_choice)\n",
        "  win = \"Você perdeu\"\n",
        "elif choice == \"papel\" and automatic_choice == \"papel\":\n",
        "  print(\"Computador escolheu \"+ automatic_choice)\n",
        "  win = \"Você empatou\"\n",
        "\n",
        "print(win)"
      ]
    }
  ]
}